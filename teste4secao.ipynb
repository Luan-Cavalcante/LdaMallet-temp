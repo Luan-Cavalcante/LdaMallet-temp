{
 "cells": [
  {
   "cell_type": "code",
   "execution_count": 1,
   "id": "6d56d3d8-29df-4c08-ae92-ac98c55ce768",
   "metadata": {},
   "outputs": [],
   "source": [
    "### aqui é para os testes \n",
    "from sklearn.feature_extraction.text import CountVectorizer\n",
    "from sklearn.datasets import fetch_20newsgroups\n",
    "\n",
    "### Isso é para a classe do professor Thiago\n",
    "from sklearn.base import BaseEstimator,TransformerMixin\n",
    "from gensim.matutils import Sparse2Corpus, corpus2dense\n",
    "from gensim.models.wrappers import LdaMallet\n",
    "from gensim.corpora.dictionary import Dictionary\n",
    "import numpy as np\n",
    "from ldamallet import LdaMalletHandler\n",
    "import pandas as pd"
   ]
  },
  {
   "cell_type": "code",
   "execution_count": 2,
   "id": "8b37d98d-366c-4598-8e00-9478e727a270",
   "metadata": {},
   "outputs": [],
   "source": [
    "path = '/home/anasofia/Documents/Projetos/AILab/ALEI-1a/dados/4a_secao/ds.parquet.gzip'\n",
    "\n",
    "docs = pd.read_parquet(path)"
   ]
  },
  {
   "cell_type": "code",
   "execution_count": 3,
   "id": "16664176-8a65-4fec-aa15-f6052bec812d",
   "metadata": {},
   "outputs": [],
   "source": [
    "vect = CountVectorizer(strip_accents = 'unicode',\n",
    "                                stop_words = 'english',\n",
    "                                lowercase = True,\n",
    "                                token_pattern = r'\\b[a-zA-Z]{3,}\\b',\n",
    "                                max_df = 0.7, \n",
    "                                min_df = 0.1)"
   ]
  },
  {
   "cell_type": "code",
   "execution_count": 4,
   "id": "f4000e88-1890-4e70-a86f-c43fd8ccf3bd",
   "metadata": {},
   "outputs": [],
   "source": [
    "X = vect.fit_transform(docs['text'])"
   ]
  },
  {
   "cell_type": "code",
   "execution_count": 5,
   "id": "3e43527f-90dd-4f4a-bcb0-7548c0a2bb59",
   "metadata": {},
   "outputs": [],
   "source": [
    "path_to_mallet_binary = \"/home/anasofia/Mallet/bin/mallet\""
   ]
  },
  {
   "cell_type": "code",
   "execution_count": 6,
   "id": "52aa017f-95cf-42a2-a7a0-0240abcf4431",
   "metadata": {},
   "outputs": [],
   "source": [
    "ldamodel = LdaMalletHandler(n_components=20,\n",
    "                            mallet_path=path_to_mallet_binary,\n",
    "                            iterations=100,\n",
    "                            vectorizer=vect)"
   ]
  },
  {
   "cell_type": "code",
   "execution_count": 7,
   "id": "7fbd1914-1756-4f6a-8f0a-c2a6a54d5861",
   "metadata": {},
   "outputs": [],
   "source": [
    "a, b = ldamodel.vect2gensim(vect, X)"
   ]
  },
  {
   "cell_type": "code",
   "execution_count": 8,
   "id": "cba9ed46-7372-4264-a477-5d8a8d4e1f18",
   "metadata": {},
   "outputs": [
    {
     "name": "stderr",
     "output_type": "stream",
     "text": [
      "Mallet LDA: 20 topics, 5 topic bits, 11111 topic mask\n",
      "Data loaded.\n",
      "max tokens: 27036\n",
      "total tokens: 11230298\n",
      "<10> LL/token: -9.46636\n",
      "<20> LL/token: -8.1142\n",
      "<30> LL/token: -7.88855\n",
      "<40> LL/token: -7.83948\n",
      "\n",
      "0\t2.5\timposto renda bahia fonte salvador incidencia brasil pagina juros fone fax andar comercio rendimentos indenizatoria estadual franca retido receita retencao \n",
      "1\t2.5\tmanaus zona franca pis cofins zfm exportacao mercadorias decreto fiscais vendas receitas produtos operacoes empresas comercio area dentro livre incentivos \n",
      "2\t2.5\ttaxa cento retencao poder servicos exercicio reais cada administracao obrigacoes servico publica limites serao utilizacao provisoria minimo acordo atividades controle \n",
      "3\t2.5\trua www tel adv fax fone sala paulo bairro brasil mail avenida centro advogados andar boa liminar telefone rodrigues pena \n",
      "4\t2.5\tagravante tutela agravada urgencia antecipacao recursal brasilia dano suspensivo advogados requisitos risco doc suspensao perigo probabilidade bloco interposicao agravado antecipada \n",
      "5\t2.5\tcompensacao impetrante seguranca contribuicoes mandado incidencia tributo tributos juros receita recolhimento indevidamente restituicao autoridade selic liminar anos contribuinte creditos cobranca \n",
      "6\t2.5\tmunicipios municipio fundo arrecadacao participacao constitucional estados fiscais calculo repasse receita incentivos competencia ipi receitas produto imposto deducao distrito beneficios \n",
      "7\t2.5\tempresa belo horizonte gerais minas centro rua ltda ctn sociedade fora rio socio passivo responsabilidade endereco andar jardim atividades atividade \n",
      "8\t2.5\timportacao mercadorias aduaneiro decreto mercadoria imposto bens acordo produtos porto comercio transporte pena tributos operacao pais calculo territorio exterior despesas \n",
      "9\t2.5\tmulta administrativo resolucao ativa divida nulidade execucao cda infracao apelacao inscricao defesa rua agravada ausencia embargos cobranca lancamento atos executivo \n",
      "10\t2.5\thonorarios advocaticios advogados verba advogado procuradoria publicos advocacia sucumbencia publica precatorio contrato honoraria destaque municipio condenacao sucumbenciais causa remuneracao expedicao \n",
      "11\t2.5\tprocuradoria isencao social amazonas contribuicoes poder constitucional sociais pessoas legislador regime judiciario beneficio seguridade interpretacao tributos rua contribuicao seguranca tributo \n",
      "12\t2.5\timportacao cofins aliquota norma contribuicao produtos adicional partes regime apelacao social pecas admissao tratamento seguridade aliquotas incidencia exigencia manutencao doc \n",
      "13\t2.5\texecucao prescricao conselho divida cobranca salvador prescricional profissional quo quatro rua termo ajuizamento juridico exercicio dia ano minimo telefone legais \n",
      "14\t2.5\tcontribuicao previdenciaria salario ferias trabalho incidencia empregado auxilio contribuicoes social verbas remuneracao constitucional empregador aviso previo adicional doenca terco indenizado \n",
      "15\t2.5\trenda imposto isencao aposentadoria grave proventos rendimentos doenca contribuicoes beneficio atividade previdencia procuradoria periodo complementacao brasilia autor portador medico interpretacao \n",
      "16\t2.5\ticms calculo cofins pis receita faturamento bruta procuradoria servicos contribuicao contribuinte contribuicoes imposto inclusao receitas tributo incidencia preco mercadorias tributos \n",
      "17\t2.5\texecucao procuradoria prescricao embargos honorarios publica agravada excecao citacao pre fls executividade agravante condenacao sumula executada exequente divida cumprimento executado \n",
      "18\t2.5\tbens procuradoria execucao penhora advocacia sistema devedor setor brasilia quadra sul diligencias lote edificio consulta autarquias sistemas brasil andar executado \n",
      "19\t2.5\tparcelamento debitos impetrante rfb pgfn contribuinte procuradoria portaria debito receita seguranca consolidacao divida autoridade programa exclusao parcelas creditos liminar conjunta \n",
      "\n",
      "<50> LL/token: -7.81899\n",
      "<60> LL/token: -7.80548\n",
      "<70> LL/token: -7.7966\n",
      "<80> LL/token: -7.79118\n",
      "<90> LL/token: -7.78626\n",
      "\n",
      "0\t2.5\timposto renda bahia fonte salvador incidencia brasil juros pagina fone fax andar comercio rendimentos indenizatoria estadual franca retido receita retencao \n",
      "1\t2.5\tmanaus zona franca pis cofins zfm exportacao mercadorias decreto fiscais vendas receitas produtos operacoes empresas comercio area livre dentro incentivos \n",
      "2\t2.5\ttaxa poder servicos administracao exercicio atividade publica cento cada atividades servico principios prestacao tributo ordem controle devem serao inconstitucionalidade reais \n",
      "3\t2.5\trua www tel adv fax sala fone centro mail andar bairro advogados paulo avenida brasil telefone gov associados pagina brasilia \n",
      "4\t2.5\tagravante tutela agravada urgencia antecipacao dano recursal requisitos doc risco suspensao perigo suspensivo endereco interposicao liminar probabilidade garantia antecipada documentos \n",
      "5\t2.5\tcompensacao impetrante seguranca mandado autoridade receita tributos contribuicoes incidencia tributo liminar recolhimento indevidamente restituicao juros anos contribuinte selic creditos cobranca \n",
      "6\t2.5\tmunicipios municipio fundo arrecadacao participacao constitucional estados fiscais calculo retencao repasse receita incentivos competencia distrito ipi receitas ente produto deducao \n",
      "7\t2.5\tbelo horizonte empresa gerais minas ltda ctn sociedade passivo socio fora responsabilidade endereco rua procuradoria social polo pessoas cnpj centro \n",
      "8\t2.5\timportacao mercadorias aduaneiro decreto mercadoria imposto bens acordo pena porto produtos comercio transporte tributos operacao pais exterior brasil calculo territorio \n",
      "9\t2.5\tmulta administrativo resolucao nulidade apelacao infracao inscricao execucao cda rua embargos legalidade ausencia administrativa centro poder custas publicacao atos prova \n",
      "10\t2.5\thonorarios advocaticios advogado verba advogados procuradoria publicos sucumbencia advocacia condenacao publica precatorio honoraria contrato sucumbenciais destaque causa municipio remuneracao expedicao \n",
      "11\t2.5\tprocuradoria isencao social amazonas contribuicoes poder constitucional sociais pessoas legislador regime judiciario rua tributos vendas beneficio seguridade seguranca tributo interpretacao \n",
      "12\t2.5\timportacao cofins aliquota norma contribuicao produtos adicional partes apelacao regime social pecas tratamento admissao seguridade aliquotas decreto incidencia doc exigencia \n",
      "13\t2.5\texecucao divida prescricao conselho ativa salvador cobranca agravante profissional quo legais prescricional quatro termo ajuizamento juridico rua dia cda minimo \n",
      "14\t2.5\tcontribuicao previdenciaria salario ferias trabalho incidencia empregado contribuicoes auxilio social verbas constitucional remuneracao empregador aviso previo adicional doenca terco calculo \n",
      "15\t2.5\trenda imposto isencao aposentadoria grave proventos rendimentos doenca contribuicoes beneficio atividade previdencia brasilia complementacao portador autor interpretacao medico norma privada \n",
      "16\t2.5\ticms calculo cofins pis receita faturamento bruta procuradoria contribuicao servicos contribuicoes contribuinte receitas imposto inclusao tributo incidencia tributos mercadorias preco \n",
      "17\t2.5\texecucao procuradoria prescricao embargos publica agravada excecao pre citacao executividade defesa sumula anos fls agravante executada cinco divida exequente cumprimento \n",
      "18\t2.5\tbens execucao procuradoria penhora sistema advocacia devedor quadra setor brasilia sul diligencias lote consulta brasil autarquias sistemas andar executado edificio \n",
      "19\t2.5\tparcelamento debitos impetrante rfb procuradoria pgfn contribuinte portaria debito receita divida consolidacao obrigacoes creditos seguranca programa parcelas exclusao autoridade brasil \n",
      "\n",
      "<100> LL/token: -7.78225\n",
      "\n",
      "Total time: 44 seconds\n"
     ]
    }
   ],
   "source": [
    "model = LdaMallet(path_to_mallet_binary,\n",
    "          iterations=100,\n",
    "          corpus=a,\n",
    "          num_topics=20,\n",
    "          id2word=b)"
   ]
  },
  {
   "cell_type": "code",
   "execution_count": 9,
   "id": "cc2ab9c3-30fa-4a75-b944-b6d87a1c52d4",
   "metadata": {},
   "outputs": [],
   "source": [
    "ldamodel.model = model"
   ]
  },
  {
   "cell_type": "code",
   "execution_count": 10,
   "id": "0dbe1e54-7ed0-4117-9f53-d422121fe7bd",
   "metadata": {},
   "outputs": [],
   "source": [
    "from dfrbrowser import dfrBrowserConverter"
   ]
  },
  {
   "cell_type": "code",
   "execution_count": 11,
   "id": "3199f076-949c-46bd-8dfd-5b23c197f3aa",
   "metadata": {},
   "outputs": [],
   "source": [
    "data = docs['text']\n",
    "data.to_csv('meta.csv', sep='\\t', index=False, header=True)"
   ]
  },
  {
   "cell_type": "code",
   "execution_count": 12,
   "id": "f3b0682b-d693-432d-ba55-397c682798d1",
   "metadata": {},
   "outputs": [],
   "source": [
    "conv = dfrBrowserConverter(ldamodel, path='dfr-browser/data')\n",
    "conv.generate_files('aaaaaa', 'BBBBBBBBJDSAFKLDSJAFKJLS', data=data)"
   ]
  },
  {
   "cell_type": "code",
   "execution_count": null,
   "id": "9b0b9a39-5ff9-4de2-b272-464e2522f57b",
   "metadata": {},
   "outputs": [],
   "source": []
  }
 ],
 "metadata": {
  "kernelspec": {
   "display_name": "env",
   "language": "python",
   "name": "env"
  },
  "language_info": {
   "codemirror_mode": {
    "name": "ipython",
    "version": 3
   },
   "file_extension": ".py",
   "mimetype": "text/x-python",
   "name": "python",
   "nbconvert_exporter": "python",
   "pygments_lexer": "ipython3",
   "version": "3.8.12"
  }
 },
 "nbformat": 4,
 "nbformat_minor": 5
}
