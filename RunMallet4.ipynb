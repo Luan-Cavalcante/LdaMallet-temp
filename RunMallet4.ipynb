{
 "cells": [
  {
   "cell_type": "code",
   "execution_count": 1,
   "id": "a53f66e3-a248-4149-8fb0-777186f2f19f",
   "metadata": {},
   "outputs": [],
   "source": [
    "### aqui é para os testes \n",
    "from sklearn.feature_extraction.text import CountVectorizer\n",
    "\n",
    "### Isso é para a classe do professor Thiago\n",
    "from sklearn.base import BaseEstimator,TransformerMixin\n",
    "from gensim.matutils import Sparse2Corpus, corpus2dense\n",
    "from gensim.models.wrappers import LdaMallet\n",
    "from gensim.corpora.dictionary import Dictionary\n",
    "import numpy as np\n",
    "from ldamallet import LdaMalletHandler\n",
    "import pandas as pd"
   ]
  },
  {
   "cell_type": "code",
   "execution_count": 22,
   "id": "9ab423a4-19a4-421f-8e30-c81d8394acb4",
   "metadata": {},
   "outputs": [],
   "source": [
    "df = pd.read_parquet('df.gzip')"
   ]
  },
  {
   "cell_type": "code",
   "execution_count": 23,
   "id": "a7304e01-3098-4d44-b0c2-71f04a9dae2c",
   "metadata": {},
   "outputs": [
    {
     "data": {
      "text/html": [
       "<div>\n",
       "<style scoped>\n",
       "    .dataframe tbody tr th:only-of-type {\n",
       "        vertical-align: middle;\n",
       "    }\n",
       "\n",
       "    .dataframe tbody tr th {\n",
       "        vertical-align: top;\n",
       "    }\n",
       "\n",
       "    .dataframe thead th {\n",
       "        text-align: right;\n",
       "    }\n",
       "</style>\n",
       "<table border=\"1\" class=\"dataframe\">\n",
       "  <thead>\n",
       "    <tr style=\"text-align: right;\">\n",
       "      <th></th>\n",
       "      <th>process_number</th>\n",
       "      <th>process_id</th>\n",
       "      <th>piece_id</th>\n",
       "      <th>piece_type</th>\n",
       "      <th>text</th>\n",
       "      <th>OR</th>\n",
       "      <th>OR_id</th>\n",
       "    </tr>\n",
       "  </thead>\n",
       "  <tbody>\n",
       "    <tr>\n",
       "      <th>0</th>\n",
       "      <td>1000426-71.2016.4.01.3200</td>\n",
       "      <td>31170</td>\n",
       "      <td>884562</td>\n",
       "      <td>Apelação</td>\n",
       "      <td>Procuradoria-Geral da Fazenda ...</td>\n",
       "      <td>pis/cofins para zona franca de manaus</td>\n",
       "      <td>15</td>\n",
       "    </tr>\n",
       "    <tr>\n",
       "      <th>1</th>\n",
       "      <td>1000751-46.2016.4.01.3200</td>\n",
       "      <td>59217</td>\n",
       "      <td>1620226</td>\n",
       "      <td>Inicial</td>\n",
       "      <td>...</td>\n",
       "      <td>pis/cofins para zona franca de manaus</td>\n",
       "      <td>15</td>\n",
       "    </tr>\n",
       "    <tr>\n",
       "      <th>2</th>\n",
       "      <td>1000925-84.2018.4.01.3200</td>\n",
       "      <td>603855</td>\n",
       "      <td>52353067</td>\n",
       "      <td>Apelação</td>\n",
       "      <td>Procuradoria-Geral da Fazenda Naci...</td>\n",
       "      <td>pis/cofins para zona franca de manaus</td>\n",
       "      <td>15</td>\n",
       "    </tr>\n",
       "    <tr>\n",
       "      <th>3</th>\n",
       "      <td>1000525-61.2018.4.01.3300</td>\n",
       "      <td>80103</td>\n",
       "      <td>2173906</td>\n",
       "      <td>Apelação</td>\n",
       "      <td>EXMO. SR. JUIZ FEDERAL DA 4ª VARA DA SEÇÃO JUD...</td>\n",
       "      <td>irpf: isenção</td>\n",
       "      <td>11</td>\n",
       "    </tr>\n",
       "    <tr>\n",
       "      <th>4</th>\n",
       "      <td>1033562-85.2018.4.01.0000</td>\n",
       "      <td>122133</td>\n",
       "      <td>7389452</td>\n",
       "      <td>Agravo de Instrumento</td>\n",
       "      <td>EXCELENTÍSSIMO                    SENHOR      ...</td>\n",
       "      <td>isenção de ir para portadores de moléstias graves</td>\n",
       "      <td>5</td>\n",
       "    </tr>\n",
       "  </tbody>\n",
       "</table>\n",
       "</div>"
      ],
      "text/plain": [
       "              process_number  process_id  piece_id             piece_type  \\\n",
       "0  1000426-71.2016.4.01.3200       31170    884562               Apelação   \n",
       "1  1000751-46.2016.4.01.3200       59217   1620226                Inicial   \n",
       "2  1000925-84.2018.4.01.3200      603855  52353067               Apelação   \n",
       "3  1000525-61.2018.4.01.3300       80103   2173906               Apelação   \n",
       "4  1033562-85.2018.4.01.0000      122133   7389452  Agravo de Instrumento   \n",
       "\n",
       "                                                text  \\\n",
       "0                  Procuradoria-Geral da Fazenda ...   \n",
       "1                                                ...   \n",
       "2              Procuradoria-Geral da Fazenda Naci...   \n",
       "3  EXMO. SR. JUIZ FEDERAL DA 4ª VARA DA SEÇÃO JUD...   \n",
       "4  EXCELENTÍSSIMO                    SENHOR      ...   \n",
       "\n",
       "                                                  OR  OR_id  \n",
       "0              pis/cofins para zona franca de manaus     15  \n",
       "1              pis/cofins para zona franca de manaus     15  \n",
       "2              pis/cofins para zona franca de manaus     15  \n",
       "3                                      irpf: isenção     11  \n",
       "4  isenção de ir para portadores de moléstias graves      5  "
      ]
     },
     "execution_count": 23,
     "metadata": {},
     "output_type": "execute_result"
    }
   ],
   "source": [
    "df.head()"
   ]
  },
  {
   "cell_type": "code",
   "execution_count": 24,
   "id": "f1809d22-8209-471d-8551-8fa19651208e",
   "metadata": {},
   "outputs": [
    {
     "data": {
      "text/plain": [
       "5723"
      ]
     },
     "execution_count": 24,
     "metadata": {},
     "output_type": "execute_result"
    }
   ],
   "source": [
    "docs_raw = df['text']\n",
    "len(df[\"text\"])"
   ]
  },
  {
   "cell_type": "code",
   "execution_count": 25,
   "id": "82b5fcca-56aa-43dd-9775-5ccd0b67ecdc",
   "metadata": {},
   "outputs": [],
   "source": [
    "vect = CountVectorizer(strip_accents = 'unicode',\n",
    "                                stop_words = 'english',\n",
    "                                lowercase = True,\n",
    "                                token_pattern = r'\\b[a-zA-Z]{3,}\\b',\n",
    "                                max_df = 0.5, \n",
    "                                min_df = 10)"
   ]
  },
  {
   "cell_type": "code",
   "execution_count": 26,
   "id": "cdd80042-477a-4841-9ccc-2e1a932f6fda",
   "metadata": {},
   "outputs": [],
   "source": [
    "X = vect.fit_transform(docs_raw)"
   ]
  },
  {
   "cell_type": "code",
   "execution_count": 27,
   "id": "ebf5c2b7-b85f-4129-80ba-9d9d7c8b59b9",
   "metadata": {},
   "outputs": [
    {
     "data": {
      "text/plain": [
       "(5723, 23740)"
      ]
     },
     "execution_count": 27,
     "metadata": {},
     "output_type": "execute_result"
    }
   ],
   "source": [
    "X.shape"
   ]
  },
  {
   "cell_type": "code",
   "execution_count": 28,
   "id": "4332dce9-75ad-4533-8907-2eb0cdb6ec9e",
   "metadata": {},
   "outputs": [],
   "source": [
    "path_to_mallet_binary = \"/home/luan/Desktop/AILAB/Mallet/bin/mallet\""
   ]
  },
  {
   "cell_type": "code",
   "execution_count": 29,
   "id": "6ce34859-7f61-4170-8f49-d6ba99613be4",
   "metadata": {},
   "outputs": [],
   "source": [
    "ldamodel = LdaMalletHandler(n_components=20,mallet_path=path_to_mallet_binary,\n",
    "iterations=100, vectorizer=vect)"
   ]
  },
  {
   "cell_type": "code",
   "execution_count": 30,
   "id": "57962f50-d14a-4cdb-871a-3dad50d054c6",
   "metadata": {},
   "outputs": [
    {
     "name": "stdout",
     "output_type": "stream",
     "text": [
      "vect2gensim\n"
     ]
    },
    {
     "name": "stderr",
     "output_type": "stream",
     "text": [
      "Mallet LDA: 20 topics, 5 topic bits, 11111 topic mask\n",
      "Data loaded.\n",
      "max tokens: 25368\n",
      "total tokens: 11670675\n",
      "<10> LL/token: -9,90139\n",
      "<20> LL/token: -8,68713\n",
      "<30> LL/token: -8,56091\n",
      "<40> LL/token: -8,51337\n",
      "\n",
      "0\t2,5\timportacao cofins aliquota produtos aeronaves adicional gatt partes tratamento pecas importados admissao temporaria aeronave aduaneiro interno exigencia autoridade transporte destacamos \n",
      "1\t2,5\thonorarios advocaticios condenacao verba municipio precatorio contratuais fundef destaque contrato educacao expedicao sucumbencia honoraria adv brasilia excecao pre executividade advocacia \n",
      "2\t2,5\tbahia renda fonte salvador fax urv fone pagina andar rendimentos juros comercio indenizatoria franca estadual retido retencao impetrante mora verba \n",
      "3\t2,5\tprescricao citacao divida excecao fls pre redirecionamento executada penhora executividade ativa cda socio executado sociedade devedor ltda certidao responsabilidade passivo \n",
      "4\t2,5\taposentadoria renda previdencia prescricao complementacao defesa calculos metodologia esgotamento divisao instancia complementar privada transito vigencia dide entidade prescricional indebito mes \n",
      "5\t2,5\tisencao renda grave aposentadoria doenca proventos rendimentos molestia xiv brasilia portador medico neoplasia maligna laudo portadores autor urgencia saude tratamento \n",
      "6\t2,5\tmanaus zona franca pis exportacao cofins mercadorias comercio vendas zfm livre operacoes receitas produtos area empresas dentro impetrante realizadas adct \n",
      "7\t2,5\tanuidades conselho antt prescricao resolucao goias multa goiania anuidade centro quatro profissional conselhos anapolis prescricional minimo termo ajuizamento celso sancoes \n",
      "8\t2,5\tmanaus zona franca zfm pis cofins incentivos mercadorias receitas exportacao desenvolvimento empresas produtos adv tel adct operacoes rio regionais impetrante \n",
      "9\t2,5\tprevidenciaria salario ferias trabalho empregado auxilio verbas remuneracao empregador aviso previo adicional doenca terco indenizado previdenciarias maternidade carater salarial verba \n",
      "10\t2,5\tinfojud quadra advocacia penhora brasilia renajud setor sul diligencias edificio devedor lote andar consulta autarquias esgotamento tel sistemas bacenjud corporate \n",
      "11\t2,5\ticms cofins pis faturamento bruta inclusao receitas preco mercadorias conceito operacoes venda operacao supremo vendas compensacao repercussao mercadoria pasep auferidas \n",
      "12\t2,5\taduaneiro minas gerais belo horizonte porto mercadoria protesto mercadorias despesas bairro divida transporte aduaneira carga descarga www org telefone inclusao \n",
      "13\t2,5\tdivida ativa honorarios encargo juros publicos fone encargos ministerio araujo santa santarem clara advocaticios trabalho seccional federais principal pinto cento \n",
      "14\t2,5\tmanaus isencao zona franca amazonas vendas exportacao pis cofins zfm mercadorias receitas produtos sociais empresas legislador incentivos seguridade realizadas dentro \n",
      "15\t2,5\ttaxa impetrante portaria autoridade rfb legalidade pgfn atividades registro controle suframa junior administrativa fiscalizacao apelante cuiaba utilizacao debitos mato cada \n",
      "16\t2,5\tparcelamento municipios fpm municipio debitos fundo arrecadacao participacao programa repasse parcelas incentivos retencao cento consolidacao adesao ipi receitas beneficios obrigacoes \n",
      "17\t2,5\tcompensacao impetrante www juros horizonte belo andar paulo fone autoridade sala indevidamente restituicao selic tel secretaria monetaria correcao mora recolhidos \n",
      "18\t2,5\tsalvador doc www tel urgencia dano multa garantia mail reais fax exigibilidade mil procedimento perdimento prova empresarial debito antecipacao paulo \n",
      "19\t2,5\thonorarios publicos advocacia ipatinga seccional sucumbencia advocaticios verba inconstitucionalidade atuacao nucleo remuneracao acompanhamento sucumbenciais fora subsidio ncpc legislador percepcao honoraria \n",
      "\n",
      "<50> LL/token: -8,48928\n",
      "<60> LL/token: -8,47562\n",
      "<70> LL/token: -8,4663\n",
      "<80> LL/token: -8,46022\n",
      "<90> LL/token: -8,45421\n",
      "\n",
      "0\t2,5\timportacao cofins aliquota produtos aeronaves adicional partes tratamento gatt pecas temporaria aeronave admissao importados autoridade interno destacamos exigencia transporte doc \n",
      "1\t2,5\thonorarios advocaticios condenacao verba municipio precatorio contratuais fundef contrato destaque educacao expedicao adv honoraria sucumbencia pre excecao brasilia executividade fls \n",
      "2\t2,5\trenda bahia fonte salvador fax urv fone pagina andar rendimentos comercio juros indenizatoria franca estadual retido retencao impetrante mora verba \n",
      "3\t2,5\tprescricao citacao divida excecao fls pre ativa executividade redirecionamento penhora executada cda socio certidao executado nulidade sociedade devedor ltda copia \n",
      "4\t2,5\trenda aposentadoria previdencia prescricao complementacao calculos metodologia esgotamento divisao complementar defesa instancia privada transito dide vigencia entidade prescricional beneficios indebito \n",
      "5\t2,5\tisencao renda grave doenca aposentadoria proventos rendimentos molestia xiv brasilia portador neoplasia medico maligna laudo portadores autor urgencia saude tratamento \n",
      "6\t2,5\tmanaus zona franca pis exportacao cofins mercadorias comercio vendas zfm livre produtos operacoes receitas area empresas dentro impetrante realizadas adct \n",
      "7\t2,5\tanuidades antt conselho prescricao goias resolucao multa anuidade goiania centro quatro profissional conselhos anapolis prescricional minimo salvador termo jamel administrativas \n",
      "8\t2,5\tmanaus zona franca zfm pis cofins receitas incentivos mercadorias exportacao desenvolvimento empresas adv tel produtos operacoes adct rio regionais impetrante \n",
      "9\t2,5\tprevidenciaria salario ferias trabalho empregado auxilio verbas remuneracao empregador aviso previo adicional doenca terco indenizado previdenciarias carater maternidade salarial verba \n",
      "10\t2,5\tinfojud advocacia penhora renajud setor brasilia sul quadra diligencias edificio lote devedor consulta autarquias andar esgotamento tel sistemas bacenjud corporate \n",
      "11\t2,5\ticms cofins pis faturamento bruta receitas inclusao preco mercadorias conceito operacoes venda operacao supremo vendas compensacao repercussao mercadoria pasep auferidas \n",
      "12\t2,5\taduaneiro minas gerais horizonte belo mercadoria porto mercadorias protesto despesas aduaneira transporte bairro divida descarga carga org telefone capatazia gastos \n",
      "13\t2,5\tdivida ativa honorarios juros encargo encargos fone publicos araujo ministerio santarem santa advocaticios clara trabalho seccional mora pinto principal federais \n",
      "14\t2,5\tmanaus isencao zona franca amazonas vendas exportacao pis cofins zfm receitas mercadorias sociais produtos empresas legislador incentivos seguridade realizadas dentro \n",
      "15\t2,5\ttaxa rfb portaria impetrante pgfn debitos legalidade autoridade atividades registro controle conjunta suframa cada utilizacao cuiaba debito fiscalizacao administrativa informacoes \n",
      "16\t2,5\tparcelamento municipios fpm municipio fundo arrecadacao participacao debitos programa parcelas repasse incentivos retencao cento adesao ipi receitas beneficios obrigacoes proterra \n",
      "17\t2,5\timpetrante compensacao www belo horizonte fone juros andar paulo autoridade sala restituicao indevidamente tel selic avenida mora secretaria fax correcao \n",
      "18\t2,5\tsalvador doc urgencia dano www tel multa garantia reais exigibilidade procedimento antecipacao empresarial perdimento risco mail prova mil autora salas \n",
      "19\t2,5\thonorarios publicos advocacia ipatinga advocaticios sucumbencia verba seccional atuacao nucleo inconstitucionalidade sucumbenciais remuneracao subsidio ncpc honoraria acompanhamento legislador percepcao fora \n",
      "\n",
      "<100> LL/token: -8,45002\n",
      "\n",
      "Total time: 1 minutes 25 seconds\n"
     ]
    },
    {
     "data": {
      "text/html": [
       "<style>#sk-container-id-2 {color: black;background-color: white;}#sk-container-id-2 pre{padding: 0;}#sk-container-id-2 div.sk-toggleable {background-color: white;}#sk-container-id-2 label.sk-toggleable__label {cursor: pointer;display: block;width: 100%;margin-bottom: 0;padding: 0.3em;box-sizing: border-box;text-align: center;}#sk-container-id-2 label.sk-toggleable__label-arrow:before {content: \"▸\";float: left;margin-right: 0.25em;color: #696969;}#sk-container-id-2 label.sk-toggleable__label-arrow:hover:before {color: black;}#sk-container-id-2 div.sk-estimator:hover label.sk-toggleable__label-arrow:before {color: black;}#sk-container-id-2 div.sk-toggleable__content {max-height: 0;max-width: 0;overflow: hidden;text-align: left;background-color: #f0f8ff;}#sk-container-id-2 div.sk-toggleable__content pre {margin: 0.2em;color: black;border-radius: 0.25em;background-color: #f0f8ff;}#sk-container-id-2 input.sk-toggleable__control:checked~div.sk-toggleable__content {max-height: 200px;max-width: 100%;overflow: auto;}#sk-container-id-2 input.sk-toggleable__control:checked~label.sk-toggleable__label-arrow:before {content: \"▾\";}#sk-container-id-2 div.sk-estimator input.sk-toggleable__control:checked~label.sk-toggleable__label {background-color: #d4ebff;}#sk-container-id-2 div.sk-label input.sk-toggleable__control:checked~label.sk-toggleable__label {background-color: #d4ebff;}#sk-container-id-2 input.sk-hidden--visually {border: 0;clip: rect(1px 1px 1px 1px);clip: rect(1px, 1px, 1px, 1px);height: 1px;margin: -1px;overflow: hidden;padding: 0;position: absolute;width: 1px;}#sk-container-id-2 div.sk-estimator {font-family: monospace;background-color: #f0f8ff;border: 1px dotted black;border-radius: 0.25em;box-sizing: border-box;margin-bottom: 0.5em;}#sk-container-id-2 div.sk-estimator:hover {background-color: #d4ebff;}#sk-container-id-2 div.sk-parallel-item::after {content: \"\";width: 100%;border-bottom: 1px solid gray;flex-grow: 1;}#sk-container-id-2 div.sk-label:hover label.sk-toggleable__label {background-color: #d4ebff;}#sk-container-id-2 div.sk-serial::before {content: \"\";position: absolute;border-left: 1px solid gray;box-sizing: border-box;top: 0;bottom: 0;left: 50%;z-index: 0;}#sk-container-id-2 div.sk-serial {display: flex;flex-direction: column;align-items: center;background-color: white;padding-right: 0.2em;padding-left: 0.2em;position: relative;}#sk-container-id-2 div.sk-item {position: relative;z-index: 1;}#sk-container-id-2 div.sk-parallel {display: flex;align-items: stretch;justify-content: center;background-color: white;position: relative;}#sk-container-id-2 div.sk-item::before, #sk-container-id-2 div.sk-parallel-item::before {content: \"\";position: absolute;border-left: 1px solid gray;box-sizing: border-box;top: 0;bottom: 0;left: 50%;z-index: -1;}#sk-container-id-2 div.sk-parallel-item {display: flex;flex-direction: column;z-index: 1;position: relative;background-color: white;}#sk-container-id-2 div.sk-parallel-item:first-child::after {align-self: flex-end;width: 50%;}#sk-container-id-2 div.sk-parallel-item:last-child::after {align-self: flex-start;width: 50%;}#sk-container-id-2 div.sk-parallel-item:only-child::after {width: 0;}#sk-container-id-2 div.sk-dashed-wrapped {border: 1px dashed gray;margin: 0 0.4em 0.5em 0.4em;box-sizing: border-box;padding-bottom: 0.4em;background-color: white;}#sk-container-id-2 div.sk-label label {font-family: monospace;font-weight: bold;display: inline-block;line-height: 1.2em;}#sk-container-id-2 div.sk-label-container {text-align: center;}#sk-container-id-2 div.sk-container {/* jupyter's `normalize.less` sets `[hidden] { display: none; }` but bootstrap.min.css set `[hidden] { display: none !important; }` so we also need the `!important` here to be able to override the default hidden behavior on the sphinx rendered scikit-learn.org. See: https://github.com/scikit-learn/scikit-learn/issues/21755 */display: inline-block !important;position: relative;}#sk-container-id-2 div.sk-text-repr-fallback {display: none;}</style><div id=\"sk-container-id-2\" class=\"sk-top-container\"><div class=\"sk-text-repr-fallback\"><pre>LdaMalletHandler(iterations=100,\n",
       "                 mallet_path=&#x27;/home/luan/Desktop/AILAB/Mallet/bin/mallet&#x27;,\n",
       "                 n_components=20,\n",
       "                 vectorizer=CountVectorizer(max_df=0.5, min_df=10,\n",
       "                                            stop_words=&#x27;english&#x27;,\n",
       "                                            strip_accents=&#x27;unicode&#x27;,\n",
       "                                            token_pattern=&#x27;\\\\b[a-zA-Z]{3,}\\\\b&#x27;))</pre><b>In a Jupyter environment, please rerun this cell to show the HTML representation or trust the notebook. <br />On GitHub, the HTML representation is unable to render, please try loading this page with nbviewer.org.</b></div><div class=\"sk-container\" hidden><div class=\"sk-item sk-dashed-wrapped\"><div class=\"sk-label-container\"><div class=\"sk-label sk-toggleable\"><input class=\"sk-toggleable__control sk-hidden--visually\" id=\"sk-estimator-id-4\" type=\"checkbox\" ><label for=\"sk-estimator-id-4\" class=\"sk-toggleable__label sk-toggleable__label-arrow\">LdaMalletHandler</label><div class=\"sk-toggleable__content\"><pre>LdaMalletHandler(iterations=100,\n",
       "                 mallet_path=&#x27;/home/luan/Desktop/AILAB/Mallet/bin/mallet&#x27;,\n",
       "                 n_components=20,\n",
       "                 vectorizer=CountVectorizer(max_df=0.5, min_df=10,\n",
       "                                            stop_words=&#x27;english&#x27;,\n",
       "                                            strip_accents=&#x27;unicode&#x27;,\n",
       "                                            token_pattern=&#x27;\\\\b[a-zA-Z]{3,}\\\\b&#x27;))</pre></div></div></div><div class=\"sk-parallel\"><div class=\"sk-parallel-item\"><div class=\"sk-item\"><div class=\"sk-label-container\"><div class=\"sk-label sk-toggleable\"><input class=\"sk-toggleable__control sk-hidden--visually\" id=\"sk-estimator-id-5\" type=\"checkbox\" ><label for=\"sk-estimator-id-5\" class=\"sk-toggleable__label sk-toggleable__label-arrow\">vectorizer: CountVectorizer</label><div class=\"sk-toggleable__content\"><pre>CountVectorizer(max_df=0.5, min_df=10, stop_words=&#x27;english&#x27;,\n",
       "                strip_accents=&#x27;unicode&#x27;, token_pattern=&#x27;\\\\b[a-zA-Z]{3,}\\\\b&#x27;)</pre></div></div></div><div class=\"sk-serial\"><div class=\"sk-item\"><div class=\"sk-estimator sk-toggleable\"><input class=\"sk-toggleable__control sk-hidden--visually\" id=\"sk-estimator-id-6\" type=\"checkbox\" ><label for=\"sk-estimator-id-6\" class=\"sk-toggleable__label sk-toggleable__label-arrow\">CountVectorizer</label><div class=\"sk-toggleable__content\"><pre>CountVectorizer(max_df=0.5, min_df=10, stop_words=&#x27;english&#x27;,\n",
       "                strip_accents=&#x27;unicode&#x27;, token_pattern=&#x27;\\\\b[a-zA-Z]{3,}\\\\b&#x27;)</pre></div></div></div></div></div></div></div></div></div></div>"
      ],
      "text/plain": [
       "LdaMalletHandler(iterations=100,\n",
       "                 mallet_path='/home/luan/Desktop/AILAB/Mallet/bin/mallet',\n",
       "                 n_components=20,\n",
       "                 vectorizer=CountVectorizer(max_df=0.5, min_df=10,\n",
       "                                            stop_words='english',\n",
       "                                            strip_accents='unicode',\n",
       "                                            token_pattern='\\\\b[a-zA-Z]{3,}\\\\b'))"
      ]
     },
     "execution_count": 30,
     "metadata": {},
     "output_type": "execute_result"
    }
   ],
   "source": [
    "ldamodel.fit(X)"
   ]
  },
  {
   "cell_type": "code",
   "execution_count": 31,
   "id": "328965b7-2b7b-47ac-8785-15f61d58a004",
   "metadata": {},
   "outputs": [
    {
     "name": "stdout",
     "output_type": "stream",
     "text": [
      "finalizou\n"
     ]
    }
   ],
   "source": [
    "print(\"finalizou\")"
   ]
  },
  {
   "cell_type": "code",
   "execution_count": null,
   "id": "0bd88787-dc64-439b-94c9-8935d03087cf",
   "metadata": {},
   "outputs": [],
   "source": []
  },
  {
   "cell_type": "code",
   "execution_count": null,
   "id": "31384011-52b5-4792-940c-f3ad7b94a378",
   "metadata": {},
   "outputs": [],
   "source": []
  }
 ],
 "metadata": {
  "kernelspec": {
   "display_name": "malleeeety",
   "language": "python",
   "name": "malleeeety"
  },
  "language_info": {
   "codemirror_mode": {
    "name": "ipython",
    "version": 3
   },
   "file_extension": ".py",
   "mimetype": "text/x-python",
   "name": "python",
   "nbconvert_exporter": "python",
   "pygments_lexer": "ipython3",
   "version": "3.8.10"
  }
 },
 "nbformat": 4,
 "nbformat_minor": 5
}
