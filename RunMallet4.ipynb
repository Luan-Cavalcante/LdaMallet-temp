{
 "cells": [
  {
   "cell_type": "code",
   "execution_count": 1,
   "id": "a53f66e3-a248-4149-8fb0-777186f2f19f",
   "metadata": {},
   "outputs": [],
   "source": [
    "### aqui é para os testes \n",
    "from sklearn.feature_extraction.text import CountVectorizer\n",
    "from sklearn.datasets import fetch_20newsgroups\n",
    "\n",
    "### Isso é para a classe do professor Thiago\n",
    "from sklearn.base import BaseEstimator,TransformerMixin\n",
    "from gensim.matutils import Sparse2Corpus, corpus2dense\n",
    "from gensim.models.wrappers import LdaMallet\n",
    "from gensim.corpora.dictionary import Dictionary\n",
    "import numpy as np\n",
    "from ldamallet import LdaMalletHandler\n",
    "import pandas as pd"
   ]
  },
  {
   "cell_type": "code",
   "execution_count": 2,
   "id": "9ab423a4-19a4-421f-8e30-c81d8394acb4",
   "metadata": {},
   "outputs": [
    {
     "name": "stdout",
     "output_type": "stream",
     "text": [
      "11314\n"
     ]
    }
   ],
   "source": [
    "newsgroups = fetch_20newsgroups(remove=('headers', 'footers', 'quotes'))\n",
    "docs_raw = newsgroups.data\n",
    "print(len(docs_raw))\n"
   ]
  },
  {
   "cell_type": "code",
   "execution_count": 14,
   "id": "eebbe9c2-2aca-42b6-9174-58d7129e3513",
   "metadata": {},
   "outputs": [
    {
     "data": {
      "text/plain": [
       "list"
      ]
     },
     "execution_count": 14,
     "metadata": {},
     "output_type": "execute_result"
    }
   ],
   "source": [
    "type(docs_raw)"
   ]
  },
  {
   "cell_type": "code",
   "execution_count": 4,
   "id": "82b5fcca-56aa-43dd-9775-5ccd0b67ecdc",
   "metadata": {},
   "outputs": [],
   "source": [
    "vect = CountVectorizer(strip_accents = 'unicode',\n",
    "                                stop_words = 'english',\n",
    "                                lowercase = True,\n",
    "                                token_pattern = r'\\b[a-zA-Z]{3,}\\b',\n",
    "                                max_df = 0.5, \n",
    "                                min_df = 10)"
   ]
  },
  {
   "cell_type": "code",
   "execution_count": 5,
   "id": "cdd80042-477a-4841-9ccc-2e1a932f6fda",
   "metadata": {},
   "outputs": [],
   "source": [
    "X = vect.fit_transform(docs_raw)"
   ]
  },
  {
   "cell_type": "code",
   "execution_count": 6,
   "id": "ebf5c2b7-b85f-4129-80ba-9d9d7c8b59b9",
   "metadata": {},
   "outputs": [
    {
     "data": {
      "text/plain": [
       "<1x9144 sparse matrix of type '<class 'numpy.int64'>'\n",
       "\twith 29 stored elements in Compressed Sparse Row format>"
      ]
     },
     "execution_count": 6,
     "metadata": {},
     "output_type": "execute_result"
    }
   ],
   "source": [
    "X.shape\n",
    "X[0]"
   ]
  },
  {
   "cell_type": "code",
   "execution_count": 7,
   "id": "4332dce9-75ad-4533-8907-2eb0cdb6ec9e",
   "metadata": {},
   "outputs": [],
   "source": [
    "# TROQUE A PATH PRA PATH DE VOCÊS\n",
    "path_to_mallet_binary = \"/home/anasofia/Mallet/bin/mallet\""
   ]
  },
  {
   "cell_type": "code",
   "execution_count": 8,
   "id": "6ce34859-7f61-4170-8f49-d6ba99613be4",
   "metadata": {},
   "outputs": [],
   "source": [
    "ldamodel = LdaMalletHandler(n_components=20,mallet_path=path_to_mallet_binary,\n",
    "iterations=100, vectorizer=vect)"
   ]
  },
  {
   "cell_type": "code",
   "execution_count": 9,
   "id": "57962f50-d14a-4cdb-871a-3dad50d054c6",
   "metadata": {},
   "outputs": [
    {
     "name": "stdout",
     "output_type": "stream",
     "text": [
      "vect2gensim\n"
     ]
    },
    {
     "name": "stderr",
     "output_type": "stream",
     "text": [
      "Mallet LDA: 20 topics, 5 topic bits, 11111 topic mask\n",
      "Data loaded.\n",
      "max tokens: 4808\n",
      "total tokens: 708418\n",
      "<10> LL/token: -9.86381\n",
      "<20> LL/token: -9.01187\n",
      "<30> LL/token: -8.81506\n",
      "<40> LL/token: -8.72993\n",
      "\n",
      "0\t2.5\tgame team year play games season period hockey league players win power player san teams goal nhl chicago points pts \n",
      "1\t2.5\tresearch university center health medical april science number high national study dod years station design disease area patients year california \n",
      "2\t2.5\tprice interested mail offer post sale sell list order reply shipping canada lost usa won condition send great radio world \n",
      "3\t2.5\tdon president time money work question make people working care support today kind jobs change questions pay important tax lot \n",
      "4\t2.5\tmax space bhj giz nasa earth air launch bxn satellite shuttle orbit moon mission lunar cost small rocket mass surface \n",
      "5\t2.5\tgun control guns government american public national states crime file congress law jpeg people laws anonymous private firearms united administration \n",
      "6\t2.5\tdon people things water thing day person food sort heard isn pain lot live fact doctor family completely bad make \n",
      "7\t2.5\tinformation mail send pub ftp list email internet computer faq message posting gov net address contact archive news request library \n",
      "8\t2.5\tstate people rights government case military police law power war states south court weapons arms action insurance person individual amendment \n",
      "9\t2.5\tfile output program line entry read section build info number rules lines title write return year date long input include \n",
      "10\t2.5\tdidn people time told started home children don left happened dead day death man days thought place knew women building \n",
      "11\t2.5\tground cover black power book current appears theory engine wire hot large don subject case work books scientific possibly circuit \n",
      "12\t2.5\tdrive card scsi hard disk bit memory video drives monitor speed board bus controller ram mac apple cards sound mode \n",
      "13\t2.5\tkey chip encryption keys bit clipper security number government phone technology public data algorithm des secure law privacy access escrow \n",
      "14\t2.5\tgod jesus true bible christian life people church question faith christians christ religion truth word argument evidence reason world exist \n",
      "15\t2.5\tgood time point don make great doesn bad didn idea thought big guess pretty feel end face finally things picture \n",
      "16\t2.5\twindows software dos image graphics version files data color package file images program format includes ibm mac bit free programs \n",
      "17\t2.5\tproblem car don good problems buy bike cars work stuff lot turn time thing pretty nice works doesn ago extra \n",
      "18\t2.5\tpeople israel jews armenian turkish armenians history world jewish israeli war greek turkey population book land peace anti killed turks \n",
      "19\t2.5\twindow set display application server motif screen widget file sun running user work program problem run keyboard code manager mit \n",
      "\n",
      "<50> LL/token: -8.68008\n",
      "<60> LL/token: -8.64675\n",
      "<70> LL/token: -8.62639\n",
      "<80> LL/token: -8.61235\n",
      "<90> LL/token: -8.60394\n",
      "\n",
      "0\t2.5\tgame team year games play season period hockey league players win player san teams power won nhl chicago goal pts \n",
      "1\t2.5\tuniversity research center science health april medical number years national information high dod study disease scientific studies california patients low \n",
      "2\t2.5\tprice interested mail post offer sale sell great original lost shipping condition model reply order radio box advance book appreciated \n",
      "3\t2.5\tdon president work money people time question make working care kind today years jobs lot point support tax important answer \n",
      "4\t2.5\tmax space bhj giz nasa air earth launch bxn satellite shuttle orbit moon mission lunar mass cost rocket flight energy \n",
      "5\t2.5\tgun government control american guns national file states crime united public law congress firearms private rate local administration article americans \n",
      "6\t2.5\tdon people time day water thing person sort lot food doesn problem wrong fact family things isn pain hear won \n",
      "7\t2.5\tinformation mail list ftp send pub internet email faq anonymous news address computer contact net posting gov archive request group \n",
      "8\t2.5\tpeople state case rights military police law laws court government person order war means action power south weapons individual states \n",
      "9\t2.5\tfile output line read program entry section number info lines rules build title write include date return open check define \n",
      "10\t2.5\tpeople didn told started time home don happened left day children heard thought place man dead knew face women days \n",
      "11\t2.5\tpower ground black cover current theory wire appears work hot subject difference case book short white circuit books large light \n",
      "12\t2.5\tdrive card scsi hard disk bit memory video drives monitor apple mac board controller ram bus problem speed drivers cards \n",
      "13\t2.5\tkey chip encryption keys bit clipper security privacy number public government technology law algorithm data access des secure phone escrow \n",
      "14\t2.5\tgod jesus bible christian true life church people faith christians christ religion truth word question evidence man argument exist things \n",
      "15\t2.5\tgood don make time point bad doesn idea thing pretty things great big isn real thought guess didn lot feel \n",
      "16\t2.5\twindows software dos image graphics version files color data file format package program images jpeg programs mac based bit support \n",
      "17\t2.5\tcar problem good buy bike problems cars time turn don speed stuff ago extra road miles driving nice bought company \n",
      "18\t2.5\tpeople israel jews armenian turkish world armenians jewish israeli history war greek turkey land government population turks book arab armenia \n",
      "19\t2.5\twindow set application server display motif sun widget running problem work screen keyboard manager code program subject type run file \n",
      "\n",
      "<100> LL/token: -8.59335\n",
      "\n",
      "Total time: 4 seconds\n"
     ]
    },
    {
     "data": {
      "text/html": [
       "<style>#sk-container-id-1 {color: black;background-color: white;}#sk-container-id-1 pre{padding: 0;}#sk-container-id-1 div.sk-toggleable {background-color: white;}#sk-container-id-1 label.sk-toggleable__label {cursor: pointer;display: block;width: 100%;margin-bottom: 0;padding: 0.3em;box-sizing: border-box;text-align: center;}#sk-container-id-1 label.sk-toggleable__label-arrow:before {content: \"▸\";float: left;margin-right: 0.25em;color: #696969;}#sk-container-id-1 label.sk-toggleable__label-arrow:hover:before {color: black;}#sk-container-id-1 div.sk-estimator:hover label.sk-toggleable__label-arrow:before {color: black;}#sk-container-id-1 div.sk-toggleable__content {max-height: 0;max-width: 0;overflow: hidden;text-align: left;background-color: #f0f8ff;}#sk-container-id-1 div.sk-toggleable__content pre {margin: 0.2em;color: black;border-radius: 0.25em;background-color: #f0f8ff;}#sk-container-id-1 input.sk-toggleable__control:checked~div.sk-toggleable__content {max-height: 200px;max-width: 100%;overflow: auto;}#sk-container-id-1 input.sk-toggleable__control:checked~label.sk-toggleable__label-arrow:before {content: \"▾\";}#sk-container-id-1 div.sk-estimator input.sk-toggleable__control:checked~label.sk-toggleable__label {background-color: #d4ebff;}#sk-container-id-1 div.sk-label input.sk-toggleable__control:checked~label.sk-toggleable__label {background-color: #d4ebff;}#sk-container-id-1 input.sk-hidden--visually {border: 0;clip: rect(1px 1px 1px 1px);clip: rect(1px, 1px, 1px, 1px);height: 1px;margin: -1px;overflow: hidden;padding: 0;position: absolute;width: 1px;}#sk-container-id-1 div.sk-estimator {font-family: monospace;background-color: #f0f8ff;border: 1px dotted black;border-radius: 0.25em;box-sizing: border-box;margin-bottom: 0.5em;}#sk-container-id-1 div.sk-estimator:hover {background-color: #d4ebff;}#sk-container-id-1 div.sk-parallel-item::after {content: \"\";width: 100%;border-bottom: 1px solid gray;flex-grow: 1;}#sk-container-id-1 div.sk-label:hover label.sk-toggleable__label {background-color: #d4ebff;}#sk-container-id-1 div.sk-serial::before {content: \"\";position: absolute;border-left: 1px solid gray;box-sizing: border-box;top: 0;bottom: 0;left: 50%;z-index: 0;}#sk-container-id-1 div.sk-serial {display: flex;flex-direction: column;align-items: center;background-color: white;padding-right: 0.2em;padding-left: 0.2em;position: relative;}#sk-container-id-1 div.sk-item {position: relative;z-index: 1;}#sk-container-id-1 div.sk-parallel {display: flex;align-items: stretch;justify-content: center;background-color: white;position: relative;}#sk-container-id-1 div.sk-item::before, #sk-container-id-1 div.sk-parallel-item::before {content: \"\";position: absolute;border-left: 1px solid gray;box-sizing: border-box;top: 0;bottom: 0;left: 50%;z-index: -1;}#sk-container-id-1 div.sk-parallel-item {display: flex;flex-direction: column;z-index: 1;position: relative;background-color: white;}#sk-container-id-1 div.sk-parallel-item:first-child::after {align-self: flex-end;width: 50%;}#sk-container-id-1 div.sk-parallel-item:last-child::after {align-self: flex-start;width: 50%;}#sk-container-id-1 div.sk-parallel-item:only-child::after {width: 0;}#sk-container-id-1 div.sk-dashed-wrapped {border: 1px dashed gray;margin: 0 0.4em 0.5em 0.4em;box-sizing: border-box;padding-bottom: 0.4em;background-color: white;}#sk-container-id-1 div.sk-label label {font-family: monospace;font-weight: bold;display: inline-block;line-height: 1.2em;}#sk-container-id-1 div.sk-label-container {text-align: center;}#sk-container-id-1 div.sk-container {/* jupyter's `normalize.less` sets `[hidden] { display: none; }` but bootstrap.min.css set `[hidden] { display: none !important; }` so we also need the `!important` here to be able to override the default hidden behavior on the sphinx rendered scikit-learn.org. See: https://github.com/scikit-learn/scikit-learn/issues/21755 */display: inline-block !important;position: relative;}#sk-container-id-1 div.sk-text-repr-fallback {display: none;}</style><div id=\"sk-container-id-1\" class=\"sk-top-container\"><div class=\"sk-text-repr-fallback\"><pre>LdaMalletHandler(iterations=100, mallet_path=&#x27;/home/anasofia/Mallet/bin/mallet&#x27;,\n",
       "                 n_components=20,\n",
       "                 vectorizer=CountVectorizer(max_df=0.5, min_df=10,\n",
       "                                            stop_words=&#x27;english&#x27;,\n",
       "                                            strip_accents=&#x27;unicode&#x27;,\n",
       "                                            token_pattern=&#x27;\\\\b[a-zA-Z]{3,}\\\\b&#x27;))</pre><b>In a Jupyter environment, please rerun this cell to show the HTML representation or trust the notebook. <br />On GitHub, the HTML representation is unable to render, please try loading this page with nbviewer.org.</b></div><div class=\"sk-container\" hidden><div class=\"sk-item sk-dashed-wrapped\"><div class=\"sk-label-container\"><div class=\"sk-label sk-toggleable\"><input class=\"sk-toggleable__control sk-hidden--visually\" id=\"sk-estimator-id-1\" type=\"checkbox\" ><label for=\"sk-estimator-id-1\" class=\"sk-toggleable__label sk-toggleable__label-arrow\">LdaMalletHandler</label><div class=\"sk-toggleable__content\"><pre>LdaMalletHandler(iterations=100, mallet_path=&#x27;/home/anasofia/Mallet/bin/mallet&#x27;,\n",
       "                 n_components=20,\n",
       "                 vectorizer=CountVectorizer(max_df=0.5, min_df=10,\n",
       "                                            stop_words=&#x27;english&#x27;,\n",
       "                                            strip_accents=&#x27;unicode&#x27;,\n",
       "                                            token_pattern=&#x27;\\\\b[a-zA-Z]{3,}\\\\b&#x27;))</pre></div></div></div><div class=\"sk-parallel\"><div class=\"sk-parallel-item\"><div class=\"sk-item\"><div class=\"sk-label-container\"><div class=\"sk-label sk-toggleable\"><input class=\"sk-toggleable__control sk-hidden--visually\" id=\"sk-estimator-id-2\" type=\"checkbox\" ><label for=\"sk-estimator-id-2\" class=\"sk-toggleable__label sk-toggleable__label-arrow\">vectorizer: CountVectorizer</label><div class=\"sk-toggleable__content\"><pre>CountVectorizer(max_df=0.5, min_df=10, stop_words=&#x27;english&#x27;,\n",
       "                strip_accents=&#x27;unicode&#x27;, token_pattern=&#x27;\\\\b[a-zA-Z]{3,}\\\\b&#x27;)</pre></div></div></div><div class=\"sk-serial\"><div class=\"sk-item\"><div class=\"sk-estimator sk-toggleable\"><input class=\"sk-toggleable__control sk-hidden--visually\" id=\"sk-estimator-id-3\" type=\"checkbox\" ><label for=\"sk-estimator-id-3\" class=\"sk-toggleable__label sk-toggleable__label-arrow\">CountVectorizer</label><div class=\"sk-toggleable__content\"><pre>CountVectorizer(max_df=0.5, min_df=10, stop_words=&#x27;english&#x27;,\n",
       "                strip_accents=&#x27;unicode&#x27;, token_pattern=&#x27;\\\\b[a-zA-Z]{3,}\\\\b&#x27;)</pre></div></div></div></div></div></div></div></div></div></div>"
      ],
      "text/plain": [
       "LdaMalletHandler(iterations=100, mallet_path='/home/anasofia/Mallet/bin/mallet',\n",
       "                 n_components=20,\n",
       "                 vectorizer=CountVectorizer(max_df=0.5, min_df=10,\n",
       "                                            stop_words='english',\n",
       "                                            strip_accents='unicode',\n",
       "                                            token_pattern='\\\\b[a-zA-Z]{3,}\\\\b'))"
      ]
     },
     "execution_count": 9,
     "metadata": {},
     "output_type": "execute_result"
    }
   ],
   "source": [
    "ldamodel.fit(X)"
   ]
  },
  {
   "cell_type": "code",
   "execution_count": 10,
   "id": "328965b7-2b7b-47ac-8785-15f61d58a004",
   "metadata": {},
   "outputs": [
    {
     "name": "stdout",
     "output_type": "stream",
     "text": [
      "finalizou\n"
     ]
    }
   ],
   "source": [
    "print(\"finalizou\")"
   ]
  },
  {
   "cell_type": "code",
   "execution_count": 11,
   "id": "94264a1b-d069-423e-829f-bb3958c16b7d",
   "metadata": {},
   "outputs": [],
   "source": [
    "from dfrbrowser import dfrBrowserConverter"
   ]
  },
  {
   "cell_type": "code",
   "execution_count": 12,
   "id": "f1fa26ad-c48f-44ca-b99e-b8834697bb99",
   "metadata": {},
   "outputs": [],
   "source": [
    "conv = dfrBrowserConverter(ldamodel, path='dfr-browser/data')"
   ]
  },
  {
   "cell_type": "code",
   "execution_count": 15,
   "id": "b4eaf32b-2c01-4fc9-aecc-b1f19f9e66dd",
   "metadata": {},
   "outputs": [],
   "source": [
    "conv.generate_files('teste', 'isso eh um grande teste')"
   ]
  },
  {
   "cell_type": "code",
   "execution_count": null,
   "id": "e55fc774-382f-469a-acc6-2b38ee78a977",
   "metadata": {},
   "outputs": [],
   "source": [
    "with open('cuuuuuuu.txt','w') as f:\n",
    "    f.write('AAAAAAAAAAAAAAAAAAAAAAAAAAAAAAAAAA')"
   ]
  },
  {
   "cell_type": "code",
   "execution_count": null,
   "id": "48ce83cc-360b-4204-84a1-509e58fbd0be",
   "metadata": {},
   "outputs": [],
   "source": []
  }
 ],
 "metadata": {
  "kernelspec": {
   "display_name": "env",
   "language": "python",
   "name": "env"
  },
  "language_info": {
   "codemirror_mode": {
    "name": "ipython",
    "version": 3
   },
   "file_extension": ".py",
   "mimetype": "text/x-python",
   "name": "python",
   "nbconvert_exporter": "python",
   "pygments_lexer": "ipython3",
   "version": "3.8.12"
  }
 },
 "nbformat": 4,
 "nbformat_minor": 5
}
