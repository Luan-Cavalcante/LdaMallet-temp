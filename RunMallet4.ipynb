{
 "cells": [
  {
   "cell_type": "code",
   "execution_count": 1,
   "id": "a53f66e3-a248-4149-8fb0-777186f2f19f",
   "metadata": {},
   "outputs": [],
   "source": [
    "### aqui é para os testes \n",
    "from sklearn.feature_extraction.text import CountVectorizer\n",
    "\n",
    "### Isso é para a classe do professor Thiago\n",
    "from sklearn.base import BaseEstimator,TransformerMixin\n",
    "from gensim.matutils import Sparse2Corpus, corpus2dense\n",
    "from gensim.models.wrappers import LdaMallet\n",
    "from gensim.corpora.dictionary import Dictionary\n",
    "import numpy as np\n",
    "from ldamallet import LdaMalletHandler\n",
    "import pandas as pd"
   ]
  },
  {
   "cell_type": "code",
   "execution_count": 22,
   "id": "9ab423a4-19a4-421f-8e30-c81d8394acb4",
   "metadata": {},
   "outputs": [],
   "source": [
    "# Aqui tem que ser a path da seção, se não tiver na VM, dê seus pulos\n",
    "df = pd.read_parquet('path_para_sua_seção')"
   ]
  },
  {
   "cell_type": "code",
   "execution_count": 24,
   "id": "f1809d22-8209-471d-8551-8fa19651208e",
   "metadata": {},
   "outputs": [
    {
     "data": {
      "text/plain": [
       "5723"
      ]
     },
     "execution_count": 24,
     "metadata": {},
     "output_type": "execute_result"
    }
   ],
   "source": [
    "docs_raw = df['text']\n",
    "len(df[\"text\"])"
   ]
  },
  {
   "cell_type": "code",
   "execution_count": 25,
   "id": "82b5fcca-56aa-43dd-9775-5ccd0b67ecdc",
   "metadata": {},
   "outputs": [],
   "source": [
    "vect = CountVectorizer(strip_accents = 'unicode',\n",
    "                                stop_words = 'english',\n",
    "                                lowercase = True,\n",
    "                                token_pattern = r'\\b[a-zA-Z]{3,}\\b',\n",
    "                                max_df = 0.5, \n",
    "                                min_df = 10)"
   ]
  },
  {
   "cell_type": "code",
   "execution_count": 26,
   "id": "cdd80042-477a-4841-9ccc-2e1a932f6fda",
   "metadata": {},
   "outputs": [],
   "source": [
    "X = vect.fit_transform(docs_raw)"
   ]
  },
  {
   "cell_type": "code",
   "execution_count": 27,
   "id": "ebf5c2b7-b85f-4129-80ba-9d9d7c8b59b9",
   "metadata": {},
   "outputs": [
    {
     "data": {
      "text/plain": [
       "(5723, 23740)"
      ]
     },
     "execution_count": 27,
     "metadata": {},
     "output_type": "execute_result"
    }
   ],
   "source": [
    "X.shape"
   ]
  },
  {
   "cell_type": "code",
   "execution_count": 28,
   "id": "4332dce9-75ad-4533-8907-2eb0cdb6ec9e",
   "metadata": {},
   "outputs": [],
   "source": [
    "# TROQUE A PATH PRA PATH DE VOCÊS\n",
    "path_to_mallet_binary = \"/home/luan/Desktop/AILAB/Mallet/bin/mallet\""
   ]
  },
  {
   "cell_type": "code",
   "execution_count": 29,
   "id": "6ce34859-7f61-4170-8f49-d6ba99613be4",
   "metadata": {},
   "outputs": [],
   "source": [
    "ldamodel = LdaMalletHandler(n_components=20,mallet_path=path_to_mallet_binary,\n",
    "iterations=100, vectorizer=vect)"
   ]
  },
  {
   "cell_type": "code",
   "execution_count": null,
   "id": "57962f50-d14a-4cdb-871a-3dad50d054c6",
   "metadata": {},
   "outputs": [],
   "source": [
    "ldamodel.fit(X)"
   ]
  },
  {
   "cell_type": "code",
   "execution_count": 31,
   "id": "328965b7-2b7b-47ac-8785-15f61d58a004",
   "metadata": {},
   "outputs": [
    {
     "name": "stdout",
     "output_type": "stream",
     "text": [
      "finalizou\n"
     ]
    }
   ],
   "source": [
    "print(\"finalizou\")"
   ]
  },
  {
   "cell_type": "code",
   "execution_count": null,
   "id": "0bd88787-dc64-439b-94c9-8935d03087cf",
   "metadata": {},
   "outputs": [],
   "source": []
  },
  {
   "cell_type": "code",
   "execution_count": null,
   "id": "31384011-52b5-4792-940c-f3ad7b94a378",
   "metadata": {},
   "outputs": [],
   "source": []
  }
 ],
 "metadata": {
  "kernelspec": {
   "display_name": "malleeeety",
   "language": "python",
   "name": "malleeeety"
  },
  "language_info": {
   "codemirror_mode": {
    "name": "ipython",
    "version": 3
   },
   "file_extension": ".py",
   "mimetype": "text/x-python",
   "name": "python",
   "nbconvert_exporter": "python",
   "pygments_lexer": "ipython3",
   "version": "3.8.10"
  }
 },
 "nbformat": 4,
 "nbformat_minor": 5
}
